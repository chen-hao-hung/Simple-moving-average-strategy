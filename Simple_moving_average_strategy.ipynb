{
 "cells": [
  {
   "cell_type": "code",
   "execution_count": 2,
   "metadata": {},
   "outputs": [],
   "source": [
    "#Simple moving average strategy\n",
    "import yfinance as yf\n",
    "from backtesting import Backtest, Strategy\n",
    "from backtesting.test import SMA\n",
    "from backtesting.lib import crossover"
   ]
  },
  {
   "cell_type": "code",
   "execution_count": 4,
   "metadata": {},
   "outputs": [
    {
     "name": "stdout",
     "output_type": "stream",
     "text": [
      "[*********************100%***********************]  1 of 1 completed\n"
     ]
    },
    {
     "data": {
      "text/plain": [
       "Start                     2002-08-12 00:00:00\n",
       "End                       2022-08-10 00:00:00\n",
       "Duration                   7303 days 00:00:00\n",
       "Exposure Time [%]                     99.5728\n",
       "Equity Final [$]                      54412.3\n",
       "Equity Peak [$]                   1.00075e+06\n",
       "Return [%]                           -94.5588\n",
       "Buy & Hold Return [%]                 208.517\n",
       "Return (Ann.) [%]                    -13.8629\n",
       "Volatility (Ann.) [%]                 15.7468\n",
       "Sharpe Ratio                                0\n",
       "Sortino Ratio                               0\n",
       "Calmar Ratio                                0\n",
       "Max. Drawdown [%]                     -94.771\n",
       "Avg. Drawdown [%]                    -38.8443\n",
       "Max. Drawdown Duration     7208 days 00:00:00\n",
       "Avg. Drawdown Duration     2425 days 00:00:00\n",
       "# Trades                                  781\n",
       "Win Rate [%]                          42.2535\n",
       "Best Trade [%]                        17.4135\n",
       "Worst Trade [%]                      -16.0995\n",
       "Avg. Trade [%]                       -0.38773\n",
       "Max. Trade Duration          37 days 00:00:00\n",
       "Avg. Trade Duration          10 days 00:00:00\n",
       "Profit Factor                        0.696996\n",
       "Expectancy [%]                      -0.344217\n",
       "SQN                                  -2.71851\n",
       "_strategy                            SmaCross\n",
       "_equity_curve                             ...\n",
       "_trades                        Size  Entry...\n",
       "dtype: object"
      ]
     },
     "execution_count": 4,
     "metadata": {},
     "output_type": "execute_result"
    }
   ],
   "source": [
    "stock_id = '^twii'\n",
    "df = yf.download(stock_id, period='20y', interval='1d')\n",
    "df.columns = ['Open', 'High', 'Low', 'Close', 'Adj Close', 'Volume']\n",
    "\n",
    "class SmaCross(Strategy):    \n",
    "\n",
    "    n1 = 5\n",
    "    n2 = 10\n",
    "\n",
    "    def init(self):\n",
    "        price = self.data.Close\n",
    "        self.ma1 = self.I(SMA, price, self.n1)\n",
    "        self.ma2 = self.I(SMA, price, self.n2)\n",
    "\n",
    "    def next(self):\n",
    "        price = self.data.Close\n",
    "        if crossover(price, self.ma1):\n",
    "            self.buy()\n",
    "        elif crossover(price, self.ma2):\n",
    "            self.sell()\n",
    "\n",
    "\n",
    "bt = Backtest(df, SmaCross, cash = 1000000, commission = .005, exclusive_orders = True)\n",
    "stats = bt.run()\n",
    "stats"
   ]
  },
  {
   "cell_type": "code",
   "execution_count": 8,
   "metadata": {},
   "outputs": [
    {
     "name": "stderr",
     "output_type": "stream",
     "text": [
      "c:\\ProgramData\\Anaconda3\\lib\\site-packages\\backtesting\\backtesting.py:1488: UserWarning: Searching for best of 473 configurations.\n",
      "  output = _optimize_grid()\n",
      "                                               \r"
     ]
    },
    {
     "data": {
      "text/plain": [
       "Start                     2002-08-12 00:00:00\n",
       "End                       2022-08-10 00:00:00\n",
       "Duration                   7303 days 00:00:00\n",
       "Exposure Time [%]                     93.3279\n",
       "Equity Final [$]                    2.639e+06\n",
       "Equity Peak [$]                   3.64449e+06\n",
       "Return [%]                              163.9\n",
       "Buy & Hold Return [%]                 208.517\n",
       "Return (Ann.) [%]                     5.10018\n",
       "Volatility (Ann.) [%]                  17.836\n",
       "Sharpe Ratio                         0.285948\n",
       "Sortino Ratio                         0.42529\n",
       "Calmar Ratio                        0.0982989\n",
       "Max. Drawdown [%]                    -51.8844\n",
       "Avg. Drawdown [%]                    -4.71129\n",
       "Max. Drawdown Duration     2320 days 00:00:00\n",
       "Avg. Drawdown Duration       91 days 00:00:00\n",
       "# Trades                                  210\n",
       "Win Rate [%]                          41.9048\n",
       "Best Trade [%]                        44.1591\n",
       "Worst Trade [%]                      -14.8879\n",
       "Avg. Trade [%]                       0.465169\n",
       "Max. Trade Duration         203 days 00:00:00\n",
       "Avg. Trade Duration          33 days 00:00:00\n",
       "Profit Factor                         1.52125\n",
       "Expectancy [%]                       0.622989\n",
       "SQN                                   1.00045\n",
       "_strategy                 SmaCross(n1=55,n...\n",
       "_equity_curve                             ...\n",
       "_trades                        Size  Entry...\n",
       "dtype: object"
      ]
     },
     "execution_count": 8,
     "metadata": {},
     "output_type": "execute_result"
    }
   ],
   "source": [
    "stats = bt.optimize(n1 = range(5, 60, 5), n2 = range(5, 250, 5), maximize = \"Equity Final [$]\",\n",
    "           constraint = lambda param: param.n1 < param.n2)\n",
    "stats._strategy"
   ]
  },
  {
   "cell_type": "code",
   "execution_count": 9,
   "metadata": {},
   "outputs": [
    {
     "data": {
      "text/plain": [
       "<Strategy SmaCross(n1=55,n2=245)>"
      ]
     },
     "execution_count": 9,
     "metadata": {},
     "output_type": "execute_result"
    }
   ],
   "source": [
    "stats._strategy"
   ]
  },
  {
   "cell_type": "code",
   "execution_count": 10,
   "metadata": {},
   "outputs": [
    {
     "data": {
      "text/html": [
       "<div style=\"display: table;\"><div style=\"display: table-row;\"><div style=\"display: table-cell;\"><b title=\"bokeh.models.layouts.Row\">Row</b>(</div><div style=\"display: table-cell;\">id&nbsp;=&nbsp;'1433', <span id=\"1906\" style=\"cursor: pointer;\">&hellip;)</span></div></div><div class=\"1905\" style=\"display: none;\"><div style=\"display: table-cell;\"></div><div style=\"display: table-cell;\">align&nbsp;=&nbsp;'start',</div></div><div class=\"1905\" style=\"display: none;\"><div style=\"display: table-cell;\"></div><div style=\"display: table-cell;\">aspect_ratio&nbsp;=&nbsp;None,</div></div><div class=\"1905\" style=\"display: none;\"><div style=\"display: table-cell;\"></div><div style=\"display: table-cell;\">background&nbsp;=&nbsp;None,</div></div><div class=\"1905\" style=\"display: none;\"><div style=\"display: table-cell;\"></div><div style=\"display: table-cell;\">children&nbsp;=&nbsp;[GridBox(id='1430', ...), ToolbarBox(id='1432', ...)],</div></div><div class=\"1905\" style=\"display: none;\"><div style=\"display: table-cell;\"></div><div style=\"display: table-cell;\">cols&nbsp;=&nbsp;'auto',</div></div><div class=\"1905\" style=\"display: none;\"><div style=\"display: table-cell;\"></div><div style=\"display: table-cell;\">css_classes&nbsp;=&nbsp;[],</div></div><div class=\"1905\" style=\"display: none;\"><div style=\"display: table-cell;\"></div><div style=\"display: table-cell;\">disabled&nbsp;=&nbsp;False,</div></div><div class=\"1905\" style=\"display: none;\"><div style=\"display: table-cell;\"></div><div style=\"display: table-cell;\">height&nbsp;=&nbsp;None,</div></div><div class=\"1905\" style=\"display: none;\"><div style=\"display: table-cell;\"></div><div style=\"display: table-cell;\">height_policy&nbsp;=&nbsp;'auto',</div></div><div class=\"1905\" style=\"display: none;\"><div style=\"display: table-cell;\"></div><div style=\"display: table-cell;\">js_event_callbacks&nbsp;=&nbsp;{},</div></div><div class=\"1905\" style=\"display: none;\"><div style=\"display: table-cell;\"></div><div style=\"display: table-cell;\">js_property_callbacks&nbsp;=&nbsp;{},</div></div><div class=\"1905\" style=\"display: none;\"><div style=\"display: table-cell;\"></div><div style=\"display: table-cell;\">margin&nbsp;=&nbsp;(0, 0, 0, 0),</div></div><div class=\"1905\" style=\"display: none;\"><div style=\"display: table-cell;\"></div><div style=\"display: table-cell;\">max_height&nbsp;=&nbsp;None,</div></div><div class=\"1905\" style=\"display: none;\"><div style=\"display: table-cell;\"></div><div style=\"display: table-cell;\">max_width&nbsp;=&nbsp;None,</div></div><div class=\"1905\" style=\"display: none;\"><div style=\"display: table-cell;\"></div><div style=\"display: table-cell;\">min_height&nbsp;=&nbsp;None,</div></div><div class=\"1905\" style=\"display: none;\"><div style=\"display: table-cell;\"></div><div style=\"display: table-cell;\">min_width&nbsp;=&nbsp;None,</div></div><div class=\"1905\" style=\"display: none;\"><div style=\"display: table-cell;\"></div><div style=\"display: table-cell;\">name&nbsp;=&nbsp;None,</div></div><div class=\"1905\" style=\"display: none;\"><div style=\"display: table-cell;\"></div><div style=\"display: table-cell;\">sizing_mode&nbsp;=&nbsp;'stretch_width',</div></div><div class=\"1905\" style=\"display: none;\"><div style=\"display: table-cell;\"></div><div style=\"display: table-cell;\">spacing&nbsp;=&nbsp;0,</div></div><div class=\"1905\" style=\"display: none;\"><div style=\"display: table-cell;\"></div><div style=\"display: table-cell;\">subscribed_events&nbsp;=&nbsp;[],</div></div><div class=\"1905\" style=\"display: none;\"><div style=\"display: table-cell;\"></div><div style=\"display: table-cell;\">syncable&nbsp;=&nbsp;True,</div></div><div class=\"1905\" style=\"display: none;\"><div style=\"display: table-cell;\"></div><div style=\"display: table-cell;\">tags&nbsp;=&nbsp;[],</div></div><div class=\"1905\" style=\"display: none;\"><div style=\"display: table-cell;\"></div><div style=\"display: table-cell;\">visible&nbsp;=&nbsp;True,</div></div><div class=\"1905\" style=\"display: none;\"><div style=\"display: table-cell;\"></div><div style=\"display: table-cell;\">width&nbsp;=&nbsp;None,</div></div><div class=\"1905\" style=\"display: none;\"><div style=\"display: table-cell;\"></div><div style=\"display: table-cell;\">width_policy&nbsp;=&nbsp;'auto')</div></div></div>\n",
       "<script>\n",
       "(function() {\n",
       "  var expanded = false;\n",
       "  var ellipsis = document.getElementById(\"1906\");\n",
       "  ellipsis.addEventListener(\"click\", function() {\n",
       "    var rows = document.getElementsByClassName(\"1905\");\n",
       "    for (var i = 0; i < rows.length; i++) {\n",
       "      var el = rows[i];\n",
       "      el.style.display = expanded ? \"none\" : \"table-row\";\n",
       "    }\n",
       "    ellipsis.innerHTML = expanded ? \"&hellip;)\" : \"&lsaquo;&lsaquo;&lsaquo;\";\n",
       "    expanded = !expanded;\n",
       "  });\n",
       "})();\n",
       "</script>\n"
      ],
      "text/plain": [
       "Row(id='1433', ...)"
      ]
     },
     "execution_count": 10,
     "metadata": {},
     "output_type": "execute_result"
    }
   ],
   "source": [
    "bt.plot()"
   ]
  }
 ],
 "metadata": {
  "kernelspec": {
   "display_name": "Python 3.8.8 ('base')",
   "language": "python",
   "name": "python3"
  },
  "language_info": {
   "codemirror_mode": {
    "name": "ipython",
    "version": 3
   },
   "file_extension": ".py",
   "mimetype": "text/x-python",
   "name": "python",
   "nbconvert_exporter": "python",
   "pygments_lexer": "ipython3",
   "version": "3.8.8"
  },
  "orig_nbformat": 4,
  "vscode": {
   "interpreter": {
    "hash": "ad2bdc8ecc057115af97d19610ffacc2b4e99fae6737bb82f5d7fb13d2f2c186"
   }
  }
 },
 "nbformat": 4,
 "nbformat_minor": 2
}
