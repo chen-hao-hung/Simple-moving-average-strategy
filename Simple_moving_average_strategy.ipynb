{
 "cells": [
  {
   "cell_type": "code",
   "execution_count": 2,
   "metadata": {},
   "outputs": [],
   "source": [
    "#Simple moving average strategy\n",
    "import yfinance as yf\n",
    "from backtesting import Backtest, Strategy\n",
    "from backtesting.test import SMA\n",
    "from backtesting.lib import crossover"
   ]
  },
  {
   "cell_type": "code",
   "execution_count": 23,
   "metadata": {},
   "outputs": [
    {
     "name": "stdout",
     "output_type": "stream",
     "text": [
      "[*********************100%***********************]  1 of 1 completed\n"
     ]
    },
    {
     "data": {
      "text/plain": [
       "Start                     2002-08-12 00:00:00\n",
       "End                       2022-08-10 00:00:00\n",
       "Duration                   7303 days 00:00:00\n",
       "Exposure Time [%]                     64.6257\n",
       "Equity Final [$]                  1.49185e+06\n",
       "Equity Peak [$]                   1.65216e+06\n",
       "Return [%]                            49.1845\n",
       "Buy & Hold Return [%]                 208.209\n",
       "Return (Ann.) [%]                     2.07169\n",
       "Volatility (Ann.) [%]                 12.1477\n",
       "Sharpe Ratio                         0.170541\n",
       "Sortino Ratio                        0.234416\n",
       "Calmar Ratio                        0.0733968\n",
       "Max. Drawdown [%]                    -28.2258\n",
       "Avg. Drawdown [%]                    -4.28341\n",
       "Max. Drawdown Duration     3735 days 00:00:00\n",
       "Avg. Drawdown Duration      194 days 00:00:00\n",
       "# Trades                                   33\n",
       "Win Rate [%]                          27.2727\n",
       "Best Trade [%]                        55.6122\n",
       "Worst Trade [%]                      -7.53697\n",
       "Avg. Trade [%]                        1.21815\n",
       "Max. Trade Duration         767 days 00:00:00\n",
       "Avg. Trade Duration         142 days 00:00:00\n",
       "Profit Factor                         1.75382\n",
       "Expectancy [%]                        1.83986\n",
       "SQN                                  0.715647\n",
       "_strategy                            SmaCross\n",
       "_equity_curve                             ...\n",
       "_trades                       Size  EntryB...\n",
       "dtype: object"
      ]
     },
     "execution_count": 23,
     "metadata": {},
     "output_type": "execute_result"
    }
   ],
   "source": [
    "stock_id = '^twii'\n",
    "df = yf.download(stock_id, period='20y', interval='1d')\n",
    "df.columns = ['Open', 'High', 'Low', 'Close', 'Adj Close', 'Volume']\n",
    "\n",
    "class SmaCross(Strategy):    \n",
    "\n",
    "    n1 = 5\n",
    "    n2 = 250\n",
    "\n",
    "    def init(self):\n",
    "        price = self.data.Close\n",
    "        self.ma1 = self.I(SMA, price, self.n1)\n",
    "        self.ma2 = self.I(SMA, price, self.n2)\n",
    "\n",
    "    def next(self):\n",
    "        price = self.data.Close\n",
    "        if crossover(self.ma1, self.ma2):\n",
    "            self.buy()\n",
    "        elif crossover(self.ma2, self.ma1):\n",
    "            self.position.close()\n",
    "\n",
    "\n",
    "bt = Backtest(df, SmaCross, cash = 1000000, commission = .005, exclusive_orders = True)\n",
    "stats = bt.run()\n",
    "stats"
   ]
  },
  {
   "cell_type": "code",
   "execution_count": 24,
   "metadata": {},
   "outputs": [
    {
     "name": "stderr",
     "output_type": "stream",
     "text": [
      "c:\\ProgramData\\Anaconda3\\lib\\site-packages\\backtesting\\backtesting.py:1488: UserWarning: Searching for best of 473 configurations.\n",
      "  output = _optimize_grid()\n",
      "                                               \r"
     ]
    },
    {
     "data": {
      "text/plain": [
       "<Strategy SmaCross(n1=20,n2=90)>"
      ]
     },
     "execution_count": 24,
     "metadata": {},
     "output_type": "execute_result"
    }
   ],
   "source": [
    "stats = bt.optimize(n1 = range(5, 60, 5), n2 = range(5, 250, 5), maximize = \"Equity Final [$]\",\n",
    "           constraint = lambda param: param.n1 < param.n2)\n",
    "\n",
    "stats._strategy"
   ]
  },
  {
   "cell_type": "code",
   "execution_count": 25,
   "metadata": {},
   "outputs": [
    {
     "data": {
      "text/plain": [
       "Start                     2002-08-12 00:00:00\n",
       "End                       2022-08-10 00:00:00\n",
       "Duration                   7303 days 00:00:00\n",
       "Exposure Time [%]                     64.4426\n",
       "Equity Final [$]                  3.23717e+06\n",
       "Equity Peak [$]                    3.6829e+06\n",
       "Return [%]                            223.717\n",
       "Buy & Hold Return [%]                 208.209\n",
       "Return (Ann.) [%]                     6.20665\n",
       "Volatility (Ann.) [%]                 13.4701\n",
       "Sharpe Ratio                         0.460772\n",
       "Sortino Ratio                        0.688929\n",
       "Calmar Ratio                         0.285991\n",
       "Max. Drawdown [%]                    -21.7022\n",
       "Avg. Drawdown [%]                    -3.22811\n",
       "Max. Drawdown Duration     2475 days 00:00:00\n",
       "Avg. Drawdown Duration       87 days 00:00:00\n",
       "# Trades                                   32\n",
       "Win Rate [%]                            43.75\n",
       "Best Trade [%]                        63.2769\n",
       "Worst Trade [%]                      -6.74163\n",
       "Avg. Trade [%]                        3.74382\n",
       "Max. Trade Duration         453 days 00:00:00\n",
       "Avg. Trade Duration         146 days 00:00:00\n",
       "Profit Factor                          3.3824\n",
       "Expectancy [%]                        4.69143\n",
       "SQN                                   1.41084\n",
       "_strategy                 SmaCross(n1=20,n...\n",
       "_equity_curve                             ...\n",
       "_trades                       Size  EntryB...\n",
       "dtype: object"
      ]
     },
     "execution_count": 25,
     "metadata": {},
     "output_type": "execute_result"
    }
   ],
   "source": [
    "stats"
   ]
  },
  {
   "cell_type": "code",
   "execution_count": 10,
   "metadata": {},
   "outputs": [
    {
     "data": {
      "text/html": [
       "<div style=\"display: table;\"><div style=\"display: table-row;\"><div style=\"display: table-cell;\"><b title=\"bokeh.models.layouts.Row\">Row</b>(</div><div style=\"display: table-cell;\">id&nbsp;=&nbsp;'1433', <span id=\"1906\" style=\"cursor: pointer;\">&hellip;)</span></div></div><div class=\"1905\" style=\"display: none;\"><div style=\"display: table-cell;\"></div><div style=\"display: table-cell;\">align&nbsp;=&nbsp;'start',</div></div><div class=\"1905\" style=\"display: none;\"><div style=\"display: table-cell;\"></div><div style=\"display: table-cell;\">aspect_ratio&nbsp;=&nbsp;None,</div></div><div class=\"1905\" style=\"display: none;\"><div style=\"display: table-cell;\"></div><div style=\"display: table-cell;\">background&nbsp;=&nbsp;None,</div></div><div class=\"1905\" style=\"display: none;\"><div style=\"display: table-cell;\"></div><div style=\"display: table-cell;\">children&nbsp;=&nbsp;[GridBox(id='1430', ...), ToolbarBox(id='1432', ...)],</div></div><div class=\"1905\" style=\"display: none;\"><div style=\"display: table-cell;\"></div><div style=\"display: table-cell;\">cols&nbsp;=&nbsp;'auto',</div></div><div class=\"1905\" style=\"display: none;\"><div style=\"display: table-cell;\"></div><div style=\"display: table-cell;\">css_classes&nbsp;=&nbsp;[],</div></div><div class=\"1905\" style=\"display: none;\"><div style=\"display: table-cell;\"></div><div style=\"display: table-cell;\">disabled&nbsp;=&nbsp;False,</div></div><div class=\"1905\" style=\"display: none;\"><div style=\"display: table-cell;\"></div><div style=\"display: table-cell;\">height&nbsp;=&nbsp;None,</div></div><div class=\"1905\" style=\"display: none;\"><div style=\"display: table-cell;\"></div><div style=\"display: table-cell;\">height_policy&nbsp;=&nbsp;'auto',</div></div><div class=\"1905\" style=\"display: none;\"><div style=\"display: table-cell;\"></div><div style=\"display: table-cell;\">js_event_callbacks&nbsp;=&nbsp;{},</div></div><div class=\"1905\" style=\"display: none;\"><div style=\"display: table-cell;\"></div><div style=\"display: table-cell;\">js_property_callbacks&nbsp;=&nbsp;{},</div></div><div class=\"1905\" style=\"display: none;\"><div style=\"display: table-cell;\"></div><div style=\"display: table-cell;\">margin&nbsp;=&nbsp;(0, 0, 0, 0),</div></div><div class=\"1905\" style=\"display: none;\"><div style=\"display: table-cell;\"></div><div style=\"display: table-cell;\">max_height&nbsp;=&nbsp;None,</div></div><div class=\"1905\" style=\"display: none;\"><div style=\"display: table-cell;\"></div><div style=\"display: table-cell;\">max_width&nbsp;=&nbsp;None,</div></div><div class=\"1905\" style=\"display: none;\"><div style=\"display: table-cell;\"></div><div style=\"display: table-cell;\">min_height&nbsp;=&nbsp;None,</div></div><div class=\"1905\" style=\"display: none;\"><div style=\"display: table-cell;\"></div><div style=\"display: table-cell;\">min_width&nbsp;=&nbsp;None,</div></div><div class=\"1905\" style=\"display: none;\"><div style=\"display: table-cell;\"></div><div style=\"display: table-cell;\">name&nbsp;=&nbsp;None,</div></div><div class=\"1905\" style=\"display: none;\"><div style=\"display: table-cell;\"></div><div style=\"display: table-cell;\">sizing_mode&nbsp;=&nbsp;'stretch_width',</div></div><div class=\"1905\" style=\"display: none;\"><div style=\"display: table-cell;\"></div><div style=\"display: table-cell;\">spacing&nbsp;=&nbsp;0,</div></div><div class=\"1905\" style=\"display: none;\"><div style=\"display: table-cell;\"></div><div style=\"display: table-cell;\">subscribed_events&nbsp;=&nbsp;[],</div></div><div class=\"1905\" style=\"display: none;\"><div style=\"display: table-cell;\"></div><div style=\"display: table-cell;\">syncable&nbsp;=&nbsp;True,</div></div><div class=\"1905\" style=\"display: none;\"><div style=\"display: table-cell;\"></div><div style=\"display: table-cell;\">tags&nbsp;=&nbsp;[],</div></div><div class=\"1905\" style=\"display: none;\"><div style=\"display: table-cell;\"></div><div style=\"display: table-cell;\">visible&nbsp;=&nbsp;True,</div></div><div class=\"1905\" style=\"display: none;\"><div style=\"display: table-cell;\"></div><div style=\"display: table-cell;\">width&nbsp;=&nbsp;None,</div></div><div class=\"1905\" style=\"display: none;\"><div style=\"display: table-cell;\"></div><div style=\"display: table-cell;\">width_policy&nbsp;=&nbsp;'auto')</div></div></div>\n",
       "<script>\n",
       "(function() {\n",
       "  var expanded = false;\n",
       "  var ellipsis = document.getElementById(\"1906\");\n",
       "  ellipsis.addEventListener(\"click\", function() {\n",
       "    var rows = document.getElementsByClassName(\"1905\");\n",
       "    for (var i = 0; i < rows.length; i++) {\n",
       "      var el = rows[i];\n",
       "      el.style.display = expanded ? \"none\" : \"table-row\";\n",
       "    }\n",
       "    ellipsis.innerHTML = expanded ? \"&hellip;)\" : \"&lsaquo;&lsaquo;&lsaquo;\";\n",
       "    expanded = !expanded;\n",
       "  });\n",
       "})();\n",
       "</script>\n"
      ],
      "text/plain": [
       "Row(id='1433', ...)"
      ]
     },
     "execution_count": 10,
     "metadata": {},
     "output_type": "execute_result"
    }
   ],
   "source": [
    "bt.plot()"
   ]
  }
 ],
 "metadata": {
  "kernelspec": {
   "display_name": "Python 3.8.8 ('base')",
   "language": "python",
   "name": "python3"
  },
  "language_info": {
   "codemirror_mode": {
    "name": "ipython",
    "version": 3
   },
   "file_extension": ".py",
   "mimetype": "text/x-python",
   "name": "python",
   "nbconvert_exporter": "python",
   "pygments_lexer": "ipython3",
   "version": "3.8.8"
  },
  "orig_nbformat": 4,
  "vscode": {
   "interpreter": {
    "hash": "ad2bdc8ecc057115af97d19610ffacc2b4e99fae6737bb82f5d7fb13d2f2c186"
   }
  }
 },
 "nbformat": 4,
 "nbformat_minor": 2
}
